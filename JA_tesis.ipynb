{
 "cells": [
  {
   "cell_type": "markdown",
   "metadata": {},
   "source": [
    "# COSAS QUE HACER:\n",
    "\n",
    "Revisión de capítulo 1 y redacción para revisión de capítulo.\n",
    "\n",
    "# DOCUMENTO\n",
    "\n",
    "\n",
    "\n",
    "# Contenido\n",
    "\n",
    "1. INTRODUCTION\n",
    "    1.1 Context\n",
    "    1.2 Problem identification\n",
    "    1.3 Objetives  \n",
    "    1.4 Scope\n",
    "    1.5Design methodology\n",
    "    1.6 Document organization \n",
    "2. ANALYSIS \n",
    "    2.1 Functional requirements\n",
    "    2.3 Design restrictions \n",
    "    2.4 Related work \n",
    "3. DISEÑO (de la solución) \n",
    "    3.1 Arquitectura\n",
    "    3.2 Soluciones alternativas\n",
    "    3.3 Estándares utilizados \n",
    "4. IMPLEMENTACIÓN \n",
    "    4.1 Descripción completa de la implementación\n",
    "    4.2 Especificaciones de software y hardware \n",
    "5. PRUEBAS Y RESULTADOS\n",
    "    5.1 Descripción de las pruebas \n",
    "    5.2 Resultados\n",
    "    5.3 Análisis de resultados \n",
    "6. CONCLUSIONES\n",
    "\n",
    " REFERENCIAS \n"
   ]
  },
  {
   "cell_type": "markdown",
   "metadata": {},
   "source": [
    "\n",
    "# SIMULACIONES\n",
    "\n",
    "Intentar modelar a un solo agente aquatico en netlogo y ver la integración en un notebook de python. Ya sea con un approach más de cálculo numérico o de machine learning. Liquid Agent encoding.\n",
    "\n",
    "### Idea convolución\n",
    "\n",
    "Suppose $ (i,j) \\in \\mathbb{Z}\\$  to be the given indexes to access a matrix A representing a m*n matrix, Let,s suppose its just a discrete representation of a smooth surface which for our problem is supper slippery, by this I mean that a particle of water will, without momentum, update its current position to a contigous one, that which follows the gradient descent rule, by this I mean A gradient descent computed by a 2 times center difference, which will be computed by a maxpool that follows a convolution with a gradient 3*3 kernel. Its better if in one operation we are able to compute the argmax pool after the gradient"
   ]
  },
  {
   "cell_type": "code",
   "execution_count": 1,
   "metadata": {},
   "outputs": [
    {
     "ename": "SyntaxError",
     "evalue": "invalid syntax (<ipython-input-1-0680ce9f4194>, line 3)",
     "output_type": "error",
     "traceback": [
      "\u001b[0;36m  File \u001b[0;32m\"<ipython-input-1-0680ce9f4194>\"\u001b[0;36m, line \u001b[0;32m3\u001b[0m\n\u001b[0;31m    Sea $A/in Z x Z$\u001b[0m\n\u001b[0m        ^\u001b[0m\n\u001b[0;31mSyntaxError\u001b[0m\u001b[0;31m:\u001b[0m invalid syntax\n"
     ]
    }
   ],
   "source": []
  },
  {
   "cell_type": "markdown",
   "metadata": {},
   "source": [
    "\n",
    "\n",
    "# REFERENCIAS\n",
    "* [CONVOLUTIONAL NEURAL NETWORKS](https://arxiv.org/pdf/1808.01346.pdf)\n",
    "* [PYTHON](http://ohllab.org/CFD_course/index.html)\n",
    "* [NETLOGO](http://www.cs.us.es/~fsancho/?e=138)\n",
    "*\n",
    "[TOKYO METRO NETWORK DESSIGN](https://www.researchgate.net/publication/41111573_Rules_for_Biologically_Inspired_Adaptive_Network_Design)\n",
    "* [Sole ́ R, Moses M, Forrest S. 2019 Liquid brains, solid brains. Phil.\n",
    "Trans. R. Soc. B 374: 20190040.](http://dx.doi.org/10.1098/rstb.2019.0040)\n",
    "* [THE BEAUTIFUL INTELLIGENCE OF BACTERIA ND OTHER MICROBES](https://www.quantamagazine.org/the-beautiful-intelligence-of-bacteria-and-other-microbes-20171113/)\n",
    "* [SLIME MOLDS REMEMBER BUT DO THEY LEARN](https://www.quantamagazine.org/slime-molds-remember-but-do-they-learn-20180709/)\n",
    "* [Vining WF, Esponda F, Moses ME, Forrest S. 2019 How does mobility help distributed systems compute?\n",
    "Phil. Trans. R. Soc. B 374: 20180375.](http://dx.doi.org/10.1098/rstb.2018.0375)\n",
    "\n",
    "\n"
   ]
  }
 ],
 "metadata": {
  "kernelspec": {
   "display_name": "Python 3",
   "language": "python",
   "name": "python3"
  },
  "language_info": {
   "codemirror_mode": {
    "name": "ipython",
    "version": 3
   },
   "file_extension": ".py",
   "mimetype": "text/x-python",
   "name": "python",
   "nbconvert_exporter": "python",
   "pygments_lexer": "ipython3",
   "version": "3.7.0"
  }
 },
 "nbformat": 4,
 "nbformat_minor": 2
}
